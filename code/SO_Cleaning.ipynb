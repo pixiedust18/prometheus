{
  "nbformat": 4,
  "nbformat_minor": 0,
  "metadata": {
    "colab": {
      "provenance": []
    },
    "kernelspec": {
      "name": "python3",
      "display_name": "Python 3"
    },
    "language_info": {
      "name": "python"
    }
  },
  "cells": [
    {
      "cell_type": "code",
      "execution_count": null,
      "metadata": {
        "id": "aP2YVYFYN4-c"
      },
      "outputs": [],
      "source": [
        "!git clone https://github.com/SamiaKabir/ChatGPT-Answers-to-SO-questions.git"
      ]
    },
    {
      "cell_type": "code",
      "source": [
        "!pip install python-docx -q"
      ],
      "metadata": {
        "colab": {
          "base_uri": "https://localhost:8080/"
        },
        "id": "0frUrveEPL5N",
        "outputId": "cc619b06-22f2-4ae4-fb98-fe8cae229375"
      },
      "execution_count": null,
      "outputs": [
        {
          "output_type": "stream",
          "name": "stdout",
          "text": [
            "\u001b[?25l     \u001b[90m━━━━━━━━━━━━━━━━━━━━━━━━━━━━━━━━━━━━━━━━\u001b[0m \u001b[32m0.0/239.6 kB\u001b[0m \u001b[31m?\u001b[0m eta \u001b[36m-:--:--\u001b[0m\r\u001b[2K     \u001b[91m━━━━━\u001b[0m\u001b[90m╺\u001b[0m\u001b[90m━━━━━━━━━━━━━━━━━━━━━━━━━━━━━━━━━━\u001b[0m \u001b[32m30.7/239.6 kB\u001b[0m \u001b[31m885.9 kB/s\u001b[0m eta \u001b[36m0:00:01\u001b[0m\r\u001b[2K     \u001b[91m━━━━━━━━━━━━━━━━━━━━━━━━━━━\u001b[0m\u001b[90m╺\u001b[0m\u001b[90m━━━━━━━━━━━━\u001b[0m \u001b[32m163.8/239.6 kB\u001b[0m \u001b[31m2.6 MB/s\u001b[0m eta \u001b[36m0:00:01\u001b[0m\r\u001b[2K     \u001b[90m━━━━━━━━━━━━━━━━━━━━━━━━━━━━━━━━━━━━━━━━\u001b[0m \u001b[32m239.6/239.6 kB\u001b[0m \u001b[31m2.9 MB/s\u001b[0m eta \u001b[36m0:00:00\u001b[0m\n",
            "\u001b[?25h"
          ]
        }
      ]
    },
    {
      "cell_type": "code",
      "source": [
        "from docx import Document\n",
        "doc = Document('/content/ChatGPT-Answers-to-SO-questions/ChatGPT answers to SO questions/Labeler1/Annotations_new_1500_1.docx')\n"
      ],
      "metadata": {
        "id": "vI09vWtTPNOw"
      },
      "execution_count": null,
      "outputs": []
    },
    {
      "cell_type": "code",
      "source": [
        "def get_title_link(cell):\n",
        "  try:\n",
        "    title, url = cell.text.split('http')\n",
        "    title = title.replace('\\n', '')\n",
        "    url = ('http' + url).replace('\\n', '')\n",
        "  except:\n",
        "    title, url = cell.text, None\n",
        "  return title, url\n",
        "\n",
        "def get_annotations(cell):\n",
        "  annotation = {}\n",
        "\n",
        "  highlight = \"\"\n",
        "  for paragraph in cell.paragraphs:\n",
        "      for run in paragraph.runs:\n",
        "          if run.font.highlight_color:\n",
        "              highlight += run.text\n",
        "\n",
        "          if highlight and run.font.color.rgb.__str__() != '000000':\n",
        "            annotation[highlight] = run.text[1:-1].split(',')\n",
        "            highlight = \"\"\n",
        "\n",
        "  return annotation\n",
        "\n",
        "def get_overall_labels(cell):\n",
        "  scores = []\n",
        "  useful = 0\n",
        "  for paragraphs in cell.paragraphs:\n",
        "    text = paragraphs.text\n",
        "    if len(text) != 0:\n",
        "      if 'Usefulness' in text:\n",
        "        useful = int(text[text.find('(')+1:text.find(')')])\n",
        "      elif text[0] != '-':\n",
        "        scores.append(text)\n",
        "\n",
        "  return useful, scores"
      ],
      "metadata": {
        "id": "4ss_kFlJP0YH"
      },
      "execution_count": null,
      "outputs": []
    },
    {
      "cell_type": "code",
      "source": [
        "import os\n",
        "import pandas as pd\n",
        "path = '/content/ChatGPT-Answers-to-SO-questions/ChatGPT answers to SO questions/Labeler2'\n",
        "files = os.listdir(path)"
      ],
      "metadata": {
        "id": "sh4NNKnCjuOk"
      },
      "execution_count": null,
      "outputs": []
    },
    {
      "cell_type": "code",
      "source": [
        "for f in files:\n",
        "  doc = Document(os.path.join(path, f))\n",
        "\n",
        "  table = doc.tables[0]\n",
        "\n",
        "  data = []\n",
        "\n",
        "  keys = None\n",
        "  for i, row in enumerate(table.rows):\n",
        "      text = (cell.text for cell in row.cells)\n",
        "\n",
        "      if i == 0:\n",
        "          keys = tuple(text)\n",
        "          continue\n",
        "\n",
        "      row_data = dict(zip(keys, text))\n",
        "      row_data['ID'] = row_data['ID'].replace('\\n', '')\n",
        "\n",
        "      title, url = get_title_link(row.cells[1])\n",
        "      row_data['title'], row_data['url'] = title, url\n",
        "\n",
        "      row_data['annotations'] = get_annotations(row.cells[2])\n",
        "\n",
        "      useful, scores = get_overall_labels(row.cells[3])\n",
        "      row_data['usefulness'] = useful\n",
        "      row_data['labels'] = scores\n",
        "\n",
        "      data.append(row_data)\n",
        "\n",
        "\n",
        "  df = pd.DataFrame(data)\n",
        "  df.to_csv('/content/drive/MyDrive/Sem3/ANLP/Project_Data/Labeler2/' + f[:-4] + 'csv')\n",
        "  # break\n",
        "    # break"
      ],
      "metadata": {
        "id": "R4TxAwR2P2Rq"
      },
      "execution_count": null,
      "outputs": []
    },
    {
      "cell_type": "markdown",
      "source": [
        "Labels for Conciseness"
      ],
      "metadata": {
        "id": "HqwfUNEJSDAJ"
      }
    },
    {
      "cell_type": "code",
      "source": [
        "import os\n",
        "os.listdir('/content/drive/MyDrive/Sem3/ANLP/Project_Data/Labeler1')"
      ],
      "metadata": {
        "id": "c0JMWsuGk8iJ",
        "colab": {
          "base_uri": "https://localhost:8080/"
        },
        "outputId": "a1d4d57a-f6e8-4f47-a088-1ddcee67050b"
      },
      "execution_count": null,
      "outputs": [
        {
          "output_type": "execute_result",
          "data": {
            "text/plain": [
              "['Annotations_new_1500_2.csv',\n",
              " 'Annotations_old_5000_2.csv',\n",
              " 'Annotations_old_5000_3.csv',\n",
              " 'Annotations_old_1500_3.csv',\n",
              " 'Annotations_old_1500_1.csv',\n",
              " 'Annotations_new_61_2.csv',\n",
              " 'Annotations_old_61_1.csv',\n",
              " 'Annotations_new_5000_1.csv',\n",
              " 'Annotations_new_1500_1.csv',\n",
              " 'Annotations_new_61_3.csv',\n",
              " 'Annotations_new_1500_2.gsheet',\n",
              " 'Copy of Annotations_new_1500_2.gsheet',\n",
              " 'Annotations_new_61_2.gsheet']"
            ]
          },
          "metadata": {},
          "execution_count": 2
        }
      ]
    },
    {
      "cell_type": "code",
      "source": [
        "import pandas as pd\n",
        "df = pd.read_csv('/content/drive/MyDrive/Sem3/ANLP/Project_Data/Labeler1/Annotations_new_1500_2.csv')\n",
        "df.head()"
      ],
      "metadata": {
        "id": "3xCEp-iBSOXJ"
      },
      "execution_count": null,
      "outputs": []
    },
    {
      "cell_type": "code",
      "source": [
        "from ast import literal_eval\n",
        "map_labels = {}\n",
        "\n",
        "def get_labels(t):\n",
        "\n",
        "  s = literal_eval(t)\n",
        "  if s != ['Skip: no credible accepted answer']:\n",
        "    for x in s:\n",
        "      if x in map_labels:\n",
        "        map_labels[x] += 1\n",
        "      else:\n",
        "        map_labels[x] = 1\n",
        "\n",
        "  return t\n",
        "\n",
        "for files in os.listdir('/content/drive/MyDrive/Sem3/ANLP/Project_Data/Labeler1'):\n",
        "  try:\n",
        "    df = pd.read_csv(os.path.join('/content/drive/MyDrive/Sem3/ANLP/Project_Data/Labeler1', files))\n",
        "    df['labels'] = df['labels'].map(get_labels)\n",
        "  except Exception as e:\n",
        "    print(e)\n",
        "    continue"
      ],
      "metadata": {
        "colab": {
          "base_uri": "https://localhost:8080/"
        },
        "id": "kFD__TAaSWcD",
        "outputId": "c16d8a78-e05c-4fcc-c700-dfd188fa5441"
      },
      "execution_count": null,
      "outputs": [
        {
          "output_type": "stream",
          "name": "stdout",
          "text": [
            "[Errno 95] Operation not supported: '/content/drive/MyDrive/Sem3/ANLP/Project_Data/Labeler1/Annotations_new_1500_2.gsheet'\n",
            "[Errno 95] Operation not supported: '/content/drive/MyDrive/Sem3/ANLP/Project_Data/Labeler1/Copy of Annotations_new_1500_2.gsheet'\n",
            "[Errno 95] Operation not supported: '/content/drive/MyDrive/Sem3/ANLP/Project_Data/Labeler1/Annotations_new_61_2.gsheet'\n"
          ]
        }
      ]
    },
    {
      "cell_type": "code",
      "source": [
        "map_labels = {}\n"
      ],
      "metadata": {
        "id": "5jb_e0qtVTcH"
      },
      "execution_count": null,
      "outputs": []
    },
    {
      "cell_type": "code",
      "source": [
        "def get_binary_labels(t):\n",
        "  s = literal_eval(t)\n",
        "  for x in s:\n",
        "    if 'Concise' in x:\n",
        "      return 1 if x == 'Concise' else 0\n",
        "\n",
        "  return -1\n",
        "\n",
        "concise_mapping = {'Not Concise': 1, 'Partially Concise': 2, 'Mostly Concise': 3, 'Concise': 4}\n",
        "\n",
        "def get_four_score_labels(t):\n",
        "  s = literal_eval(t)\n",
        "  for x in s:\n",
        "    if 'Concise' in x:\n",
        "      try:\n",
        "        return concise_mapping[x]\n",
        "      except:\n",
        "        continue\n",
        "\n",
        "  return -1\n",
        "\n",
        "for files in os.listdir('/content/drive/MyDrive/Sem3/ANLP/Project_Data/Labeler2'):\n",
        "  try:\n",
        "    df = pd.read_csv(os.path.join('/content/drive/MyDrive/Sem3/ANLP/Project_Data/Labeler2', files))\n",
        "    df['labels'] = df['labels'].map(get_labels)\n",
        "    df['binary_concise'] = df['labels'].map(get_binary_labels)\n",
        "    df['four_score_concise'] = df['labels'].map(get_four_score_labels)\n",
        "    df.to_csv(os.path.join('/content/drive/MyDrive/Sem3/ANLP/Project_Data/Labeler2', files))\n",
        "  except Exception as e:\n",
        "    print(e)\n",
        "    continue\n",
        "\n",
        "# df = pd.read_csv('/content/drive/MyDrive/Sem3/ANLP/Project_Data/Labeler1/Annotations_new_1500_2.csv')\n",
        "# df['binary_concise'] = df['labels'].map(get_binary_labels)\n",
        "# df['four_score_concise'] = df['labels'].map(get_four_score_labels)"
      ],
      "metadata": {
        "id": "RNJDYTqgS32F"
      },
      "execution_count": null,
      "outputs": []
    },
    {
      "cell_type": "code",
      "source": [
        "df.head()"
      ],
      "metadata": {
        "colab": {
          "base_uri": "https://localhost:8080/",
          "height": 556
        },
        "id": "JcnvMGCnS5Xm",
        "outputId": "71617d76-a3a4-4cb5-cea6-9709b16b217e"
      },
      "execution_count": null,
      "outputs": [
        {
          "output_type": "execute_result",
          "data": {
            "text/plain": [
              "   Unnamed: 0        ID                                Title and post link  \\\n",
              "0           0  75251315  Dependency issue installing google-chrome-stab...   \n",
              "1           1  75254685  GPG error: https://apt.releases.hashicorp.com ...   \n",
              "2           2  75263047  Duplicate class in Kotlin Android\\n\\nhttps://s...   \n",
              "3           3  75272737  Error \"Invalid version: '0.23ubuntu1' (package...   \n",
              "4           4  75275563  AttributeError: module 'sqlalchemy' has no att...   \n",
              "\n",
              "                                      ChatGPT Answer  \\\n",
              "0  The issue you're encountering is due to a miss...   \n",
              "1  This error typically occurs when the apt packa...   \n",
              "2  The error you're facing is caused by conflicti...   \n",
              "3  It seems that you're encountering multiple iss...   \n",
              "4  The initial error you encountered, `AttributeE...   \n",
              "\n",
              "                                      Overall Labels  \\\n",
              "0  Partially Comprehensive\\n\\nUsefulness (4)\\n---...   \n",
              "1  Fully Comprehensive\\n\\nUsefulness (4)\\n-------...   \n",
              "2  Partially Comprehensive\\n\\nUsefulness (4)\\n---...   \n",
              "3  Fully Comprehensive\\n\\nUsefulness (2)\\n-------...   \n",
              "4  Fully Comprehensive\\n\\nUsefulness (5)\\n-------...   \n",
              "\n",
              "                                               title  \\\n",
              "0  Dependency issue installing google-chrome-stab...   \n",
              "1  GPG error: https://apt.releases.hashicorp.com ...   \n",
              "2                  Duplicate class in Kotlin Android   \n",
              "3  Error \"Invalid version: '0.23ubuntu1' (package...   \n",
              "4  AttributeError: module 'sqlalchemy' has no att...   \n",
              "\n",
              "                                                 url  \\\n",
              "0  https://stackoverflow.com/questions/75251315/d...   \n",
              "1                                                NaN   \n",
              "2  https://stackoverflow.com/questions/75263047/d...   \n",
              "3  https://stackoverflow.com/questions/75272737/e...   \n",
              "4  https://stackoverflow.com/questions/75275563/a...   \n",
              "\n",
              "                                         annotations  usefulness  \\\n",
              "0  {'The issue you\\'re encountering is due to a m...           4   \n",
              "1  {'1. Identify the missing public key: Take not...           4   \n",
              "2  {\"The error you're facing is caused by conflic...           4   \n",
              "3  {'1. Error building `pycairo` wheel:Since you ...           2   \n",
              "4  {'5. Verify GitHub Actions environment: Double...           5   \n",
              "\n",
              "                                              labels  binary_concise  \\\n",
              "0  ['Partially Comprehensive', 'Correct', 'Incons...               0   \n",
              "1  ['Fully Comprehensive', 'Correct', 'Inconsiste...               1   \n",
              "2  ['Partially Comprehensive', 'Correct', 'Incons...               0   \n",
              "3  ['Fully Comprehensive', 'Partially Correct', '...               0   \n",
              "4  ['Fully Comprehensive', 'Correct', 'Consistent...               0   \n",
              "\n",
              "   four_score_concise  \n",
              "0                   1  \n",
              "1                   4  \n",
              "2                   1  \n",
              "3                   1  \n",
              "4                   1  "
            ],
            "text/html": [
              "\n",
              "  <div id=\"df-ab6fcb9a-9a91-477f-9321-bb7f52c8eef2\" class=\"colab-df-container\">\n",
              "    <div>\n",
              "<style scoped>\n",
              "    .dataframe tbody tr th:only-of-type {\n",
              "        vertical-align: middle;\n",
              "    }\n",
              "\n",
              "    .dataframe tbody tr th {\n",
              "        vertical-align: top;\n",
              "    }\n",
              "\n",
              "    .dataframe thead th {\n",
              "        text-align: right;\n",
              "    }\n",
              "</style>\n",
              "<table border=\"1\" class=\"dataframe\">\n",
              "  <thead>\n",
              "    <tr style=\"text-align: right;\">\n",
              "      <th></th>\n",
              "      <th>Unnamed: 0</th>\n",
              "      <th>ID</th>\n",
              "      <th>Title and post link</th>\n",
              "      <th>ChatGPT Answer</th>\n",
              "      <th>Overall Labels</th>\n",
              "      <th>title</th>\n",
              "      <th>url</th>\n",
              "      <th>annotations</th>\n",
              "      <th>usefulness</th>\n",
              "      <th>labels</th>\n",
              "      <th>binary_concise</th>\n",
              "      <th>four_score_concise</th>\n",
              "    </tr>\n",
              "  </thead>\n",
              "  <tbody>\n",
              "    <tr>\n",
              "      <th>0</th>\n",
              "      <td>0</td>\n",
              "      <td>75251315</td>\n",
              "      <td>Dependency issue installing google-chrome-stab...</td>\n",
              "      <td>The issue you're encountering is due to a miss...</td>\n",
              "      <td>Partially Comprehensive\\n\\nUsefulness (4)\\n---...</td>\n",
              "      <td>Dependency issue installing google-chrome-stab...</td>\n",
              "      <td>https://stackoverflow.com/questions/75251315/d...</td>\n",
              "      <td>{'The issue you\\'re encountering is due to a m...</td>\n",
              "      <td>4</td>\n",
              "      <td>['Partially Comprehensive', 'Correct', 'Incons...</td>\n",
              "      <td>0</td>\n",
              "      <td>1</td>\n",
              "    </tr>\n",
              "    <tr>\n",
              "      <th>1</th>\n",
              "      <td>1</td>\n",
              "      <td>75254685</td>\n",
              "      <td>GPG error: https://apt.releases.hashicorp.com ...</td>\n",
              "      <td>This error typically occurs when the apt packa...</td>\n",
              "      <td>Fully Comprehensive\\n\\nUsefulness (4)\\n-------...</td>\n",
              "      <td>GPG error: https://apt.releases.hashicorp.com ...</td>\n",
              "      <td>NaN</td>\n",
              "      <td>{'1. Identify the missing public key: Take not...</td>\n",
              "      <td>4</td>\n",
              "      <td>['Fully Comprehensive', 'Correct', 'Inconsiste...</td>\n",
              "      <td>1</td>\n",
              "      <td>4</td>\n",
              "    </tr>\n",
              "    <tr>\n",
              "      <th>2</th>\n",
              "      <td>2</td>\n",
              "      <td>75263047</td>\n",
              "      <td>Duplicate class in Kotlin Android\\n\\nhttps://s...</td>\n",
              "      <td>The error you're facing is caused by conflicti...</td>\n",
              "      <td>Partially Comprehensive\\n\\nUsefulness (4)\\n---...</td>\n",
              "      <td>Duplicate class in Kotlin Android</td>\n",
              "      <td>https://stackoverflow.com/questions/75263047/d...</td>\n",
              "      <td>{\"The error you're facing is caused by conflic...</td>\n",
              "      <td>4</td>\n",
              "      <td>['Partially Comprehensive', 'Correct', 'Incons...</td>\n",
              "      <td>0</td>\n",
              "      <td>1</td>\n",
              "    </tr>\n",
              "    <tr>\n",
              "      <th>3</th>\n",
              "      <td>3</td>\n",
              "      <td>75272737</td>\n",
              "      <td>Error \"Invalid version: '0.23ubuntu1' (package...</td>\n",
              "      <td>It seems that you're encountering multiple iss...</td>\n",
              "      <td>Fully Comprehensive\\n\\nUsefulness (2)\\n-------...</td>\n",
              "      <td>Error \"Invalid version: '0.23ubuntu1' (package...</td>\n",
              "      <td>https://stackoverflow.com/questions/75272737/e...</td>\n",
              "      <td>{'1. Error building `pycairo` wheel:Since you ...</td>\n",
              "      <td>2</td>\n",
              "      <td>['Fully Comprehensive', 'Partially Correct', '...</td>\n",
              "      <td>0</td>\n",
              "      <td>1</td>\n",
              "    </tr>\n",
              "    <tr>\n",
              "      <th>4</th>\n",
              "      <td>4</td>\n",
              "      <td>75275563</td>\n",
              "      <td>AttributeError: module 'sqlalchemy' has no att...</td>\n",
              "      <td>The initial error you encountered, `AttributeE...</td>\n",
              "      <td>Fully Comprehensive\\n\\nUsefulness (5)\\n-------...</td>\n",
              "      <td>AttributeError: module 'sqlalchemy' has no att...</td>\n",
              "      <td>https://stackoverflow.com/questions/75275563/a...</td>\n",
              "      <td>{'5. Verify GitHub Actions environment: Double...</td>\n",
              "      <td>5</td>\n",
              "      <td>['Fully Comprehensive', 'Correct', 'Consistent...</td>\n",
              "      <td>0</td>\n",
              "      <td>1</td>\n",
              "    </tr>\n",
              "  </tbody>\n",
              "</table>\n",
              "</div>\n",
              "    <div class=\"colab-df-buttons\">\n",
              "\n",
              "  <div class=\"colab-df-container\">\n",
              "    <button class=\"colab-df-convert\" onclick=\"convertToInteractive('df-ab6fcb9a-9a91-477f-9321-bb7f52c8eef2')\"\n",
              "            title=\"Convert this dataframe to an interactive table.\"\n",
              "            style=\"display:none;\">\n",
              "\n",
              "  <svg xmlns=\"http://www.w3.org/2000/svg\" height=\"24px\" viewBox=\"0 -960 960 960\">\n",
              "    <path d=\"M120-120v-720h720v720H120Zm60-500h600v-160H180v160Zm220 220h160v-160H400v160Zm0 220h160v-160H400v160ZM180-400h160v-160H180v160Zm440 0h160v-160H620v160ZM180-180h160v-160H180v160Zm440 0h160v-160H620v160Z\"/>\n",
              "  </svg>\n",
              "    </button>\n",
              "\n",
              "  <style>\n",
              "    .colab-df-container {\n",
              "      display:flex;\n",
              "      gap: 12px;\n",
              "    }\n",
              "\n",
              "    .colab-df-convert {\n",
              "      background-color: #E8F0FE;\n",
              "      border: none;\n",
              "      border-radius: 50%;\n",
              "      cursor: pointer;\n",
              "      display: none;\n",
              "      fill: #1967D2;\n",
              "      height: 32px;\n",
              "      padding: 0 0 0 0;\n",
              "      width: 32px;\n",
              "    }\n",
              "\n",
              "    .colab-df-convert:hover {\n",
              "      background-color: #E2EBFA;\n",
              "      box-shadow: 0px 1px 2px rgba(60, 64, 67, 0.3), 0px 1px 3px 1px rgba(60, 64, 67, 0.15);\n",
              "      fill: #174EA6;\n",
              "    }\n",
              "\n",
              "    .colab-df-buttons div {\n",
              "      margin-bottom: 4px;\n",
              "    }\n",
              "\n",
              "    [theme=dark] .colab-df-convert {\n",
              "      background-color: #3B4455;\n",
              "      fill: #D2E3FC;\n",
              "    }\n",
              "\n",
              "    [theme=dark] .colab-df-convert:hover {\n",
              "      background-color: #434B5C;\n",
              "      box-shadow: 0px 1px 3px 1px rgba(0, 0, 0, 0.15);\n",
              "      filter: drop-shadow(0px 1px 2px rgba(0, 0, 0, 0.3));\n",
              "      fill: #FFFFFF;\n",
              "    }\n",
              "  </style>\n",
              "\n",
              "    <script>\n",
              "      const buttonEl =\n",
              "        document.querySelector('#df-ab6fcb9a-9a91-477f-9321-bb7f52c8eef2 button.colab-df-convert');\n",
              "      buttonEl.style.display =\n",
              "        google.colab.kernel.accessAllowed ? 'block' : 'none';\n",
              "\n",
              "      async function convertToInteractive(key) {\n",
              "        const element = document.querySelector('#df-ab6fcb9a-9a91-477f-9321-bb7f52c8eef2');\n",
              "        const dataTable =\n",
              "          await google.colab.kernel.invokeFunction('convertToInteractive',\n",
              "                                                    [key], {});\n",
              "        if (!dataTable) return;\n",
              "\n",
              "        const docLinkHtml = 'Like what you see? Visit the ' +\n",
              "          '<a target=\"_blank\" href=https://colab.research.google.com/notebooks/data_table.ipynb>data table notebook</a>'\n",
              "          + ' to learn more about interactive tables.';\n",
              "        element.innerHTML = '';\n",
              "        dataTable['output_type'] = 'display_data';\n",
              "        await google.colab.output.renderOutput(dataTable, element);\n",
              "        const docLink = document.createElement('div');\n",
              "        docLink.innerHTML = docLinkHtml;\n",
              "        element.appendChild(docLink);\n",
              "      }\n",
              "    </script>\n",
              "  </div>\n",
              "\n",
              "\n",
              "<div id=\"df-be30ff5e-3fed-4133-89c4-10844bdccfb4\">\n",
              "  <button class=\"colab-df-quickchart\" onclick=\"quickchart('df-be30ff5e-3fed-4133-89c4-10844bdccfb4')\"\n",
              "            title=\"Suggest charts\"\n",
              "            style=\"display:none;\">\n",
              "\n",
              "<svg xmlns=\"http://www.w3.org/2000/svg\" height=\"24px\"viewBox=\"0 0 24 24\"\n",
              "     width=\"24px\">\n",
              "    <g>\n",
              "        <path d=\"M19 3H5c-1.1 0-2 .9-2 2v14c0 1.1.9 2 2 2h14c1.1 0 2-.9 2-2V5c0-1.1-.9-2-2-2zM9 17H7v-7h2v7zm4 0h-2V7h2v10zm4 0h-2v-4h2v4z\"/>\n",
              "    </g>\n",
              "</svg>\n",
              "  </button>\n",
              "\n",
              "<style>\n",
              "  .colab-df-quickchart {\n",
              "      --bg-color: #E8F0FE;\n",
              "      --fill-color: #1967D2;\n",
              "      --hover-bg-color: #E2EBFA;\n",
              "      --hover-fill-color: #174EA6;\n",
              "      --disabled-fill-color: #AAA;\n",
              "      --disabled-bg-color: #DDD;\n",
              "  }\n",
              "\n",
              "  [theme=dark] .colab-df-quickchart {\n",
              "      --bg-color: #3B4455;\n",
              "      --fill-color: #D2E3FC;\n",
              "      --hover-bg-color: #434B5C;\n",
              "      --hover-fill-color: #FFFFFF;\n",
              "      --disabled-bg-color: #3B4455;\n",
              "      --disabled-fill-color: #666;\n",
              "  }\n",
              "\n",
              "  .colab-df-quickchart {\n",
              "    background-color: var(--bg-color);\n",
              "    border: none;\n",
              "    border-radius: 50%;\n",
              "    cursor: pointer;\n",
              "    display: none;\n",
              "    fill: var(--fill-color);\n",
              "    height: 32px;\n",
              "    padding: 0;\n",
              "    width: 32px;\n",
              "  }\n",
              "\n",
              "  .colab-df-quickchart:hover {\n",
              "    background-color: var(--hover-bg-color);\n",
              "    box-shadow: 0 1px 2px rgba(60, 64, 67, 0.3), 0 1px 3px 1px rgba(60, 64, 67, 0.15);\n",
              "    fill: var(--button-hover-fill-color);\n",
              "  }\n",
              "\n",
              "  .colab-df-quickchart-complete:disabled,\n",
              "  .colab-df-quickchart-complete:disabled:hover {\n",
              "    background-color: var(--disabled-bg-color);\n",
              "    fill: var(--disabled-fill-color);\n",
              "    box-shadow: none;\n",
              "  }\n",
              "\n",
              "  .colab-df-spinner {\n",
              "    border: 2px solid var(--fill-color);\n",
              "    border-color: transparent;\n",
              "    border-bottom-color: var(--fill-color);\n",
              "    animation:\n",
              "      spin 1s steps(1) infinite;\n",
              "  }\n",
              "\n",
              "  @keyframes spin {\n",
              "    0% {\n",
              "      border-color: transparent;\n",
              "      border-bottom-color: var(--fill-color);\n",
              "      border-left-color: var(--fill-color);\n",
              "    }\n",
              "    20% {\n",
              "      border-color: transparent;\n",
              "      border-left-color: var(--fill-color);\n",
              "      border-top-color: var(--fill-color);\n",
              "    }\n",
              "    30% {\n",
              "      border-color: transparent;\n",
              "      border-left-color: var(--fill-color);\n",
              "      border-top-color: var(--fill-color);\n",
              "      border-right-color: var(--fill-color);\n",
              "    }\n",
              "    40% {\n",
              "      border-color: transparent;\n",
              "      border-right-color: var(--fill-color);\n",
              "      border-top-color: var(--fill-color);\n",
              "    }\n",
              "    60% {\n",
              "      border-color: transparent;\n",
              "      border-right-color: var(--fill-color);\n",
              "    }\n",
              "    80% {\n",
              "      border-color: transparent;\n",
              "      border-right-color: var(--fill-color);\n",
              "      border-bottom-color: var(--fill-color);\n",
              "    }\n",
              "    90% {\n",
              "      border-color: transparent;\n",
              "      border-bottom-color: var(--fill-color);\n",
              "    }\n",
              "  }\n",
              "</style>\n",
              "\n",
              "  <script>\n",
              "    async function quickchart(key) {\n",
              "      const quickchartButtonEl =\n",
              "        document.querySelector('#' + key + ' button');\n",
              "      quickchartButtonEl.disabled = true;  // To prevent multiple clicks.\n",
              "      quickchartButtonEl.classList.add('colab-df-spinner');\n",
              "      try {\n",
              "        const charts = await google.colab.kernel.invokeFunction(\n",
              "            'suggestCharts', [key], {});\n",
              "      } catch (error) {\n",
              "        console.error('Error during call to suggestCharts:', error);\n",
              "      }\n",
              "      quickchartButtonEl.classList.remove('colab-df-spinner');\n",
              "      quickchartButtonEl.classList.add('colab-df-quickchart-complete');\n",
              "    }\n",
              "    (() => {\n",
              "      let quickchartButtonEl =\n",
              "        document.querySelector('#df-be30ff5e-3fed-4133-89c4-10844bdccfb4 button');\n",
              "      quickchartButtonEl.style.display =\n",
              "        google.colab.kernel.accessAllowed ? 'block' : 'none';\n",
              "    })();\n",
              "  </script>\n",
              "</div>\n",
              "    </div>\n",
              "  </div>\n"
            ]
          },
          "metadata": {},
          "execution_count": 46
        }
      ]
    },
    {
      "cell_type": "code",
      "source": [
        "df.iloc[3,-1]"
      ],
      "metadata": {
        "colab": {
          "base_uri": "https://localhost:8080/"
        },
        "id": "GDQZMKYHVt_w",
        "outputId": "2fd327ee-8dee-4413-fcea-d6ece9363c0b"
      },
      "execution_count": null,
      "outputs": [
        {
          "output_type": "execute_result",
          "data": {
            "text/plain": [
              "4"
            ]
          },
          "metadata": {},
          "execution_count": 38
        }
      ]
    },
    {
      "cell_type": "code",
      "source": [
        "df.iloc[3,-3]"
      ],
      "metadata": {
        "colab": {
          "base_uri": "https://localhost:8080/",
          "height": 35
        },
        "id": "C3Zpx5odV28b",
        "outputId": "ae6454a3-0568-4649-802b-4ea60245b0e0"
      },
      "execution_count": null,
      "outputs": [
        {
          "output_type": "execute_result",
          "data": {
            "text/plain": [
              "\"['Fully Comprehensive', 'Partially Correct', 'Partially Consistent', 'Concise']\""
            ],
            "application/vnd.google.colaboratory.intrinsic+json": {
              "type": "string"
            }
          },
          "metadata": {},
          "execution_count": 39
        }
      ]
    },
    {
      "cell_type": "code",
      "source": [
        "df['four_score_concise'].value_counts()"
      ],
      "metadata": {
        "colab": {
          "base_uri": "https://localhost:8080/"
        },
        "id": "S6dwyZlpWyds",
        "outputId": "b6a18384-6b6f-482d-8a5c-6ac41d932cb3"
      },
      "execution_count": null,
      "outputs": [
        {
          "output_type": "execute_result",
          "data": {
            "text/plain": [
              " 1    17\n",
              " 4    13\n",
              "-1     4\n",
              "Name: four_score_concise, dtype: int64"
            ]
          },
          "metadata": {},
          "execution_count": 47
        }
      ]
    },
    {
      "cell_type": "code",
      "source": [
        "df['binary_concise'].value_counts()"
      ],
      "metadata": {
        "colab": {
          "base_uri": "https://localhost:8080/"
        },
        "id": "cPCQDi4DYKWd",
        "outputId": "002a43e2-0a4f-4805-f087-6bee83b2619e"
      },
      "execution_count": null,
      "outputs": [
        {
          "output_type": "execute_result",
          "data": {
            "text/plain": [
              " 0    17\n",
              " 1    13\n",
              "-1     4\n",
              "Name: binary_concise, dtype: int64"
            ]
          },
          "metadata": {},
          "execution_count": 48
        }
      ]
    },
    {
      "cell_type": "code",
      "source": [
        "map_labels = {}\n",
        "df['labels'] = df['labels'].map(get_labels)\n",
        "map_labels"
      ],
      "metadata": {
        "colab": {
          "base_uri": "https://localhost:8080/"
        },
        "id": "59-bPr6CW5ng",
        "outputId": "56adca34-2492-447a-b9a1-8a3526ade5fc"
      },
      "execution_count": null,
      "outputs": [
        {
          "output_type": "execute_result",
          "data": {
            "text/plain": [
              "{'Fully Comprehensive': 17,\n",
              " 'Partially Correct': 4,\n",
              " 'Partially Consistent': 4,\n",
              " 'Concise': 2,\n",
              " 'Incorrect': 8,\n",
              " 'Inconsistent': 9,\n",
              " 'Correct': 8,\n",
              " 'Partially Inconsistent': 3,\n",
              " 'Mostly Concise': 6,\n",
              " 'Partially Comprehensive': 4,\n",
              " 'Not Concise': 8,\n",
              " 'Partially Concise': 7,\n",
              " 'Mostly Inconsistent': 4,\n",
              " 'Consistent': 2,\n",
              " 'Not Comprehensive': 1,\n",
              " 'Mostly Incorrect': 3,\n",
              " 'Mostly Consistent': 1,\n",
              " 'Partially\\nComprehensive': 1}"
            ]
          },
          "metadata": {},
          "execution_count": 33
        }
      ]
    },
    {
      "cell_type": "code",
      "source": [],
      "metadata": {
        "id": "OIi-6dDCXDfY"
      },
      "execution_count": null,
      "outputs": []
    }
  ]
}